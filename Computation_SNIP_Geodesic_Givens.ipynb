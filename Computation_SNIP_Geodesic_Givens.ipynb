{
 "cells": [
  {
   "cell_type": "code",
   "execution_count": 1,
   "metadata": {
    "colab": {
     "base_uri": "https://localhost:8080/"
    },
    "id": "eDtfHlxKn0LI",
    "outputId": "a9b1dffd-0529-40d5-99f5-eaff859b5b1a"
   },
   "outputs": [
    {
     "name": "stdout",
     "output_type": "stream",
     "text": [
      "Requirement already satisfied: cvxpy in c:\\users\\dell\\appdata\\local\\programs\\python\\python38\\lib\\site-packages (1.1.18)\n",
      "Requirement already satisfied: osqp>=0.4.1 in c:\\users\\dell\\appdata\\local\\programs\\python\\python38\\lib\\site-packages (from cvxpy) (0.6.2.post0)\n",
      "Requirement already satisfied: scs>=1.1.6 in c:\\users\\dell\\appdata\\local\\programs\\python\\python38\\lib\\site-packages (from cvxpy) (3.1.0)\n",
      "Requirement already satisfied: scipy>=1.1.0 in c:\\users\\dell\\appdata\\local\\programs\\python\\python38\\lib\\site-packages (from cvxpy) (1.7.1)\n",
      "Requirement already satisfied: numpy>=1.15 in c:\\users\\dell\\appdata\\local\\programs\\python\\python38\\lib\\site-packages (from cvxpy) (1.21.2)\n",
      "Requirement already satisfied: ecos>=2 in c:\\users\\dell\\appdata\\local\\programs\\python\\python38\\lib\\site-packages (from cvxpy) (2.0.10)\n",
      "Requirement already satisfied: qdldl in c:\\users\\dell\\appdata\\local\\programs\\python\\python38\\lib\\site-packages (from osqp>=0.4.1->cvxpy) (0.1.5.post0)\n"
     ]
    },
    {
     "name": "stderr",
     "output_type": "stream",
     "text": [
      "WARNING: You are using pip version 21.3.1; however, version 22.1.2 is available.\n",
      "You should consider upgrading via the 'c:\\users\\dell\\appdata\\local\\programs\\python\\python38\\python.exe -m pip install --upgrade pip' command.\n"
     ]
    },
    {
     "name": "stdout",
     "output_type": "stream",
     "text": [
      "Requirement already satisfied: cvxopt in c:\\users\\dell\\appdata\\local\\programs\\python\\python38\\lib\\site-packages (1.2.7)\n"
     ]
    },
    {
     "name": "stderr",
     "output_type": "stream",
     "text": [
      "WARNING: You are using pip version 21.3.1; however, version 22.1.2 is available.\n",
      "You should consider upgrading via the 'c:\\users\\dell\\appdata\\local\\programs\\python\\python38\\python.exe -m pip install --upgrade pip' command.\n"
     ]
    },
    {
     "name": "stdout",
     "output_type": "stream",
     "text": [
      "Requirement already satisfied: cvxpy-base in c:\\users\\dell\\appdata\\local\\programs\\python\\python38\\lib\\site-packages (1.2.0)\n",
      "Requirement already satisfied: scipy>=1.1.0 in c:\\users\\dell\\appdata\\local\\programs\\python\\python38\\lib\\site-packages (from cvxpy-base) (1.7.1)\n",
      "Requirement already satisfied: numpy>=1.15 in c:\\users\\dell\\appdata\\local\\programs\\python\\python38\\lib\\site-packages (from cvxpy-base) (1.21.2)\n"
     ]
    },
    {
     "name": "stderr",
     "output_type": "stream",
     "text": [
      "WARNING: You are using pip version 21.3.1; however, version 22.1.2 is available.\n",
      "You should consider upgrading via the 'c:\\users\\dell\\appdata\\local\\programs\\python\\python38\\python.exe -m pip install --upgrade pip' command.\n"
     ]
    },
    {
     "name": "stdout",
     "output_type": "stream",
     "text": [
      "Requirement already satisfied: GMM in c:\\users\\dell\\appdata\\local\\programs\\python\\python38\\lib\\site-packages (0.3.3)\n"
     ]
    },
    {
     "name": "stderr",
     "output_type": "stream",
     "text": [
      "WARNING: You are using pip version 21.3.1; however, version 22.1.2 is available.\n",
      "You should consider upgrading via the 'c:\\users\\dell\\appdata\\local\\programs\\python\\python38\\python.exe -m pip install --upgrade pip' command.\n"
     ]
    },
    {
     "name": "stdout",
     "output_type": "stream",
     "text": [
      "Requirement already satisfied: MKLpy in c:\\users\\dell\\appdata\\local\\programs\\python\\python38\\lib\\site-packages (0.6)\n",
      "Requirement already satisfied: numpy in c:\\users\\dell\\appdata\\local\\programs\\python\\python38\\lib\\site-packages (from MKLpy) (1.21.2)\n",
      "Requirement already satisfied: cvxopt in c:\\users\\dell\\appdata\\local\\programs\\python\\python38\\lib\\site-packages (from MKLpy) (1.2.7)\n",
      "Requirement already satisfied: torch in c:\\users\\dell\\appdata\\local\\programs\\python\\python38\\lib\\site-packages (from MKLpy) (1.10.2)\n",
      "Requirement already satisfied: scikit-learn in c:\\users\\dell\\appdata\\local\\programs\\python\\python38\\lib\\site-packages (from MKLpy) (1.0.2)\n",
      "Requirement already satisfied: joblib>=0.11 in c:\\users\\dell\\appdata\\local\\programs\\python\\python38\\lib\\site-packages (from scikit-learn->MKLpy) (1.1.0)\n",
      "Requirement already satisfied: threadpoolctl>=2.0.0 in c:\\users\\dell\\appdata\\local\\programs\\python\\python38\\lib\\site-packages (from scikit-learn->MKLpy) (3.0.0)\n",
      "Requirement already satisfied: scipy>=1.1.0 in c:\\users\\dell\\appdata\\local\\programs\\python\\python38\\lib\\site-packages (from scikit-learn->MKLpy) (1.7.1)\n",
      "Requirement already satisfied: typing-extensions in c:\\users\\dell\\appdata\\local\\programs\\python\\python38\\lib\\site-packages (from torch->MKLpy) (4.0.1)\n"
     ]
    },
    {
     "name": "stderr",
     "output_type": "stream",
     "text": [
      "WARNING: You are using pip version 21.3.1; however, version 22.1.2 is available.\n",
      "You should consider upgrading via the 'c:\\users\\dell\\appdata\\local\\programs\\python\\python38\\python.exe -m pip install --upgrade pip' command.\n"
     ]
    },
    {
     "name": "stdout",
     "output_type": "stream",
     "text": [
      "Requirement already satisfied: algorithms in c:\\users\\dell\\appdata\\local\\programs\\python\\python38\\lib\\site-packages (0.1.4)\n"
     ]
    },
    {
     "name": "stderr",
     "output_type": "stream",
     "text": [
      "WARNING: You are using pip version 21.3.1; however, version 22.1.2 is available.\n",
      "You should consider upgrading via the 'c:\\users\\dell\\appdata\\local\\programs\\python\\python38\\python.exe -m pip install --upgrade pip' command.\n",
      "The system cannot find the path specified.\n"
     ]
    }
   ],
   "source": [
    "import numpy as np\n",
    "import scipy.linalg\n",
    "import functools\n",
    "!pip install cvxpy\n",
    "!pip install cvxopt\n",
    "!pip install cvxpy-base\n",
    "import cvxpy as cp\n",
    "inv = scipy.linalg.inv \n",
    "randn = np.random.randn\n",
    "from numpy.linalg import matrix_rank\n",
    "from scipy.linalg import logm, expm\n",
    "from scipy.linalg import sqrtm\n",
    "from matplotlib import pyplot as plt\n",
    "import matplotlib.pyplot as plt\n",
    "import math\n",
    "from cvxpy.atoms.axis_atom import AxisAtom\n",
    "from cvxpy.atoms.norm1 import norm1\n",
    "from cvxpy.atoms.norm_inf import norm_inf\n",
    "from cvxpy.constraints.constraint import Constraint\n",
    "from cvxpy.utilities.power_tools import pow_high, pow_mid, pow_neg\n",
    "from matplotlib.ticker import MultipleLocator, FormatStrFormatter\n",
    "from matplotlib import rc\n",
    "import pickle\n",
    "import scipy\n",
    "from scipy.linalg import expm, sinm, cosm, logm\n",
    "from scipy.stats import unitary_group\n",
    "from scipy import random\n",
    "from scipy.stats import multivariate_normal\n",
    "!pip install GMM\n",
    "!pip install MKLpy\n",
    "!pip install algorithms\n",
    "!sudo sh -c 'echo 1 >/proc/sys/kernel/perf_event_paranoid'\n",
    "from gmm import gmm\n",
    "import timeit\n",
    "import tracemalloc\n",
    "import sklearn\n",
    "from sklearn.datasets import make_spd_matrix\n",
    "### Channel Matrices\n",
    "power_delay_profile = np.array([0, -1 ,-9, -10, -15, -20]) # ITU_Vehicular_A channel #### attenuation over differnt paths\n",
    "delay_profile = 1e-2*np.array([0 ,300 ,700 ,1100 ,1700, 2500])  #### time delay in multiple paths"
   ]
  },
  {
   "cell_type": "code",
   "execution_count": 2,
   "metadata": {
    "id": "_3defZ5XKTal"
   },
   "outputs": [],
   "source": [
    "### Consider 'mXm MIMO' system\n",
    "m = 2\n",
    "\n",
    "### Transmit Antennas\n",
    "Nt = m\n",
    "\n",
    "### Receive Antennas\n",
    "Nr = m\n",
    "\n",
    "## Number of Subcarriers\n",
    "Nsc = 8\n",
    "\n",
    "channel_samples = 100000"
   ]
  },
  {
   "cell_type": "markdown",
   "metadata": {
    "id": "wp-5qaZw8VpI"
   },
   "source": [
    "# **Definitions**"
   ]
  },
  {
   "cell_type": "code",
   "execution_count": 3,
   "metadata": {
    "id": "_BUDnBQr8UM6"
   },
   "outputs": [],
   "source": [
    "def poly_add(m,p1,p2):\n",
    "    l1 = p1.shape[0]\n",
    "    l2 = p2.shape[0]\n",
    "    if(l1 == l2):\n",
    "        return p1 + p2\n",
    "    elif(l1 > l2):\n",
    "        p2_mod = np.zeros(p1.shape,dtype = np.complex128)\n",
    "        p2_mod[l1-l2:l1] = p2\n",
    "        return p1 + p2_mod\n",
    "    else:\n",
    "        p1_mod = np.zeros(p2.shape,dtype = np.complex128)\n",
    "        p1_mod[l2-l1:l2] = p1\n",
    "        return p1_mod + p2\n",
    "\n",
    "### computing the coefficients of product of two polynomial (as a convolution of their coefficient vectors) \n",
    "def poly_convolve(m,p1,p2):\n",
    "    if(m == 1):\n",
    "        return np.convolve(p1,p2)\n",
    "    else:\n",
    "        result = []\n",
    "        l1 = p1.shape[0]\n",
    "        l2 = p2.shape[0]\n",
    "        p1_mod = np.zeros((l1+2*(l2-1),m,m), dtype = np.complex128)# append zeroes\n",
    "\n",
    "        #### zero padded p1\n",
    "        for i in range(l1 + l2 - 1):\n",
    "            if (i < l2 -1):\n",
    "                p1_mod[i] = 0\n",
    "            elif (i < l1 + l2 - 1):\n",
    "                p1_mod[i] = p1[i - (l2 - 1)]\n",
    "            else :\n",
    "                p1_mod[i] = 0\n",
    "                \n",
    "        ### convlution of p1 & p2\n",
    "        for i in range(l1 + l2 - 1):\n",
    "            temp = np.zeros((m,m), dtype = np.complex128)\n",
    "            for j in range(l2):\n",
    "                temp = temp + p1_mod[i+j]@p2[l2-1-j]\n",
    "            result.append(temp)\n",
    "        return np.array(result)\n",
    "\n",
    "\n",
    "### Evaluating the polynomial matrix at a particular frequency\n",
    "def poly_eval(m,p,omega):\n",
    "    l = p.shape[0]\n",
    "    ans = np.zeros((m,m),dtype = np.complex128)\n",
    "    s = omega\n",
    "    for i in range(l):\n",
    "        ans = ans + p[l-1-i]*(s**i)\n",
    "    return ans"
   ]
  },
  {
   "cell_type": "code",
   "execution_count": 4,
   "metadata": {
    "id": "2gRXbPYY8fy3"
   },
   "outputs": [],
   "source": [
    "### Base step in induaction based solution construction\n",
    "def base_interpolation_poly(m,omega,U,Gamma):\n",
    "    I = np.eye(m)\n",
    "    N = [(I+ (U @ inv(Gamma) @ (I -np.conj(U.T))) * omega /(omega+1) ) ,(-1*omega*I+ (U @ inv(Gamma) @ (I -np.conj(U.T))) * omega /(omega+1) )]\n",
    "    D = [(I+ (inv(Gamma) @ (I -np.conj(U.T))) * omega /(omega+1) )     ,   (-1*omega*I+ (inv(Gamma) @ (I -np.conj(U.T))) * omega /(omega+1) ) ]\n",
    "    return np.array(N),np.array(D);"
   ]
  },
  {
   "cell_type": "code",
   "execution_count": 5,
   "metadata": {
    "id": "bFZuzTM28ry-"
   },
   "outputs": [],
   "source": [
    "### Matrix used to modify the data in inductive step of Induction based solution construction \n",
    "def Transformation_mat_poly(m,omega_1,U1,Gamma_1): \n",
    "    I = np.eye(m)\n",
    "    H = [np.array([2*I - (omega_1+1)*inv(Gamma_1), -2 * omega_1 * I - (omega_1 + 1)*inv(Gamma_1)]),\n",
    "         np.array([(omega_1 + 1) *inv(Gamma_1) @ U1.conj().T ,(omega_1 + 1) *inv(Gamma_1) @ U1.conj().T]),\n",
    "         np.array([(omega_1 + 1)*-1*U1 @ inv(Gamma_1),  (omega_1 + 1)*-1*U1 @ inv(Gamma_1)]),\n",
    "         np.array([2*I + ((omega_1 + 1)* U1 @ inv(Gamma_1) @ U1.conj().T)   , (-2 * omega_1 * I) + ((omega_1 + 1) * U1 @ inv(Gamma_1) @ U1.conj().T) ])]\n",
    "    return H"
   ]
  },
  {
   "cell_type": "code",
   "execution_count": 6,
   "metadata": {
    "id": "sz8jWSdh8sdr"
   },
   "outputs": [],
   "source": [
    "### Final step of combining the solutions (of N-1 points & 1 point) in Induction based solution construction {NOTE: This is done iteratively} \n",
    "def final_interpolation_poly(m,omega_1,U1,Gamma_1,Ns_hat,Ds_hat):\n",
    "    I = np.eye(m)\n",
    "    D1 = [2*I + (omega_1+1)*inv(Gamma_1),    -2 * omega_1 * I + (omega_1 + 1)*inv(Gamma_1)]\n",
    "    D2 = [-1*(omega_1 + 1) *inv(Gamma_1) @ U1.conj().T ,  -1*(omega_1 + 1) *inv(Gamma_1) @ U1.conj().T]\n",
    "    N1 = [2*I - (omega_1 + 1) *U1 @ inv(Gamma_1) @ U1.conj().T   , -2 * omega_1 * I - (omega_1 + 1) * U1 @ inv(Gamma_1) @ U1.conj().T]\n",
    "    N2 = [(omega_1 + 1)*U1 @ inv(Gamma_1),  (omega_1 + 1)*U1 @ inv(Gamma_1)]\n",
    "\n",
    "    Dz = poly_add(m,poly_convolve(m,np.array(D1),Ds_hat),poly_convolve(m,np.array(D2),Ns_hat))\n",
    "    Nz = poly_add(m,poly_convolve(m,np.array(N1),Ns_hat),poly_convolve(m,np.array(N2),Ds_hat))\n",
    "    return Nz, Dz;"
   ]
  },
  {
   "cell_type": "code",
   "execution_count": 7,
   "metadata": {
    "id": "FBFuNxQJ8u2l"
   },
   "outputs": [],
   "source": [
    "def Recursive_interpolation_poly(n,m,omega_array,U_array,Gamma_array):\n",
    "    I = np.eye(m)\n",
    "    if(n != omega_array.shape[0]) or (n != U_array.shape[0]) or (n != Gamma_array.shape[0]):\n",
    "        print(\"Incorrect no. of points in recursion\")\n",
    "        return\n",
    "        \n",
    "    if(n == 1): # Base step\n",
    "        Ns_hat, Ds_hat = base_interpolation_poly(m,omega_array[0],U_array[0],Gamma_array[0])\n",
    "        return Ns_hat, Ds_hat\n",
    "    \n",
    "    else: ### modify the data \n",
    "        omega = omega_array[0]\n",
    "        U = U_array[0]\n",
    "        Gamma = Gamma_array[0]\n",
    "\n",
    "        ### modification for next step\n",
    "        omega_array_mod = omega_array[1:n]\n",
    "        eval_H = Transformation_mat_poly(m,omega,U,Gamma)\n",
    "        U_array_mod = np.zeros((n-1,m,m), dtype = np.complex128)\n",
    "\n",
    "        for i in range(n-1):\n",
    "            ### Converting to polynomial\n",
    "            H_omega_0 = poly_eval(m,eval_H[0],omega_array[i+1])\n",
    "            H_omega_1 = poly_eval(m,eval_H[1],omega_array[i+1])\n",
    "            H_omega_2 = poly_eval(m,eval_H[2],omega_array[i+1])\n",
    "            H_omega_3 = poly_eval(m,eval_H[3],omega_array[i+1])        \n",
    "\n",
    "            #### Modifying the data 'B hat' in PPT  \n",
    "            V_hat_1 = H_omega_0 + H_omega_1 @ U_array[i+1]\n",
    "            V_hat_2 = H_omega_2 + H_omega_3 @ U_array[i+1]\n",
    "\n",
    "            U_array_mod[i] =  V_hat_2 @ inv(V_hat_1)    \n",
    "\n",
    "        Gamma_array_mod = np.zeros((n-1,m,m), dtype = np.complex128)\n",
    "        \n",
    "        for i in range(n-1):\n",
    "            Gamma_array_mod[i] = Gamma_array[i+1] - (((I - np.conj(U_array[i+1].T)@U)@inv(Gamma)@(I - np.conj(U.T)@U_array[i+1]))/((1- (omega_array[i+1]/omega)) * (1- (omega/omega_array[i+1])) ))\n",
    "        \n",
    "        ### recursive\n",
    "        Ns_hat, Ds_hat = Recursive_interpolation_poly(n-1,m,omega_array_mod,U_array_mod,Gamma_array_mod)\n",
    "        \n",
    "        ### combining\n",
    "        Nz, Dz = final_interpolation_poly(m,omega,U,Gamma,Ns_hat,Ds_hat)\n",
    "        return Nz, Dz\n",
    "\n",
    "def Gs_eval(m,Ns,Ds,omega):\n",
    "    return poly_eval(m,Ns,omega)@inv(poly_eval(m,Ds,omega))"
   ]
  },
  {
   "cell_type": "code",
   "execution_count": 8,
   "metadata": {
    "id": "H-FYodA59ANB"
   },
   "outputs": [],
   "source": [
    "def SNIP_boundary(m,n,a,power_delay_profile, delay_profile,channel_cont_omega,Flag,U_array_ip,omega_array_ip,scale):\n",
    "  Gamma_array_ip = np.zeros((n,m,m), dtype = complex)\n",
    "  delta_w = 10**(-12)\n",
    "  for i in range(n):\n",
    "    U,S,Vh = scipy.linalg.svd(channel_cont_omega(np.imag(np.log(omega_array_ip[i])) + delta_w))\n",
    "    U_w_plus_delta = U\n",
    "    Phi_w_plus_delta = -1j*logm(U_w_plus_delta)\n",
    "    Phi_w_plus_delta_Her = (Phi_w_plus_delta + np.conj(Phi_w_plus_delta.T))/2  \n",
    "\n",
    "    U_w = U_array_ip[i]\n",
    "\n",
    "    Phi_w = -1j*logm(U_w) ##### Phase ???\n",
    "    Phi_w_Her = (Phi_w + np.conj(Phi_w.T))/2\n",
    "\n",
    "    ### since delta_w is already scaled, we have to un-scale it before deividing below\n",
    "    delta_w = delta_w*scale\n",
    "    differentiate_phi = (Phi_w_plus_delta_Her - Phi_w_Her)/delta_w  #### differential of phase\n",
    "\n",
    "    Gamma = 2*sqrtm(np.conj(differentiate_phi.T)@differentiate_phi) ## square root of matrix product\n",
    "    gamma_her = np.conj(Gamma.T) - Gamma\n",
    "\n",
    "    Gamma_array_ip[i] = Gamma\n",
    "    Group_delays = Gamma_array_ip\n",
    "  ### We want to compute the interpolation at original omega values(i.e unscaled) , so we have to unscale the omega values before passing them through Recursive Interpolation\n",
    "  for q in range(len(omega_array_ip)):\n",
    "    omega_array_ip[q] = np.exp((scale)*np.log(omega_array_ip[q]))\n",
    "\n",
    "  Nz, Dz = Recursive_interpolation_poly(n,m,omega_array_ip,U_array_ip,Gamma_array_ip)\n",
    "  return Nz,Dz"
   ]
  },
  {
   "cell_type": "code",
   "execution_count": 9,
   "metadata": {
    "id": "S91KwxfGC7WM"
   },
   "outputs": [],
   "source": [
    "def tracing_start():\n",
    "    tracemalloc.stop()\n",
    "    # print(\"nTracing Status : \", tracemalloc.is_tracing())\n",
    "    tracemalloc.start()\n",
    "    # print(\"Tracing Status : \", tracemalloc.is_tracing())\n",
    "def tracing_mem():\n",
    "    first_size, first_peak = tracemalloc.get_traced_memory()\n",
    "    peak = first_peak/(1024*1024)\n",
    "    return(peak)\n",
    "    # print(\"Peak Size in MB - \", peak)"
   ]
  },
  {
   "cell_type": "code",
   "execution_count": 10,
   "metadata": {
    "id": "i_QssYHHVVjL"
   },
   "outputs": [],
   "source": [
    "def gparam_test(U):\n",
    "    M = np.size(U,1)\n",
    "    U_prev = U\n",
    "    phi_vals = np.zeros(((M*(M+1))//2))\n",
    "    theta_vals = np.zeros(((M*(M-1))//2))\n",
    "    current_column_angles = []\n",
    "    start = 0\n",
    "    start2 = 0\n",
    "    for i in range(M):\n",
    "        current_column_angles = np.concatenate((np.zeros((i)), np.angle(U_prev[i:,i]).T))#,axis = 1)\n",
    "        U_current_column_real = np.diag(np.exp(-1j * current_column_angles)) @ U_prev\n",
    "        phi_vals[start:start+M-i] = np.angle(U_prev[i:,i]).T\n",
    "        for j in range(i+1,M):\n",
    "            G = np.eye(M)\n",
    "            if not np.allclose(np.real(U_current_column_real[j,i]),U_current_column_real[j,i]):\n",
    "                print(\"real column error\")\n",
    "                print(U_current_column_real[j,i])\n",
    "            theta = np.arctan2(np.real(U_current_column_real[j,i]),np.real(U_current_column_real[i,i]))\n",
    "            G[i, i] = np.cos(theta)\n",
    "            G[i, j] = np.sin(theta)\n",
    "            G[j, i] = -1*np.sin(theta)\n",
    "            G[j, j] = np.cos(theta)\n",
    "            theta_vals[start2+(j-i-1)] = theta\n",
    "            U_current_column_real = G@U_current_column_real\n",
    "        start = start + (M-i)\n",
    "        start2 = start2 + (M-i-1)\n",
    "        U_prev = U_current_column_real\n",
    "    return [phi_vals, theta_vals]\n",
    "    "
   ]
  },
  {
   "cell_type": "code",
   "execution_count": 11,
   "metadata": {
    "id": "y8PJwNDYVXpK"
   },
   "outputs": [],
   "source": [
    "def givens_reconstruct(phi_theta_vals):\n",
    "    M = int(np.sqrt(len(phi_theta_vals)))\n",
    "    phi_vals = phi_theta_vals[0:(M*(M+1)//2)]\n",
    "    phi_vals = phi_vals[::-1]\n",
    "    theta_vals = phi_theta_vals[(M*(M+1)//2):]\n",
    "    theta_vals = theta_vals[::-1]\n",
    "    U = np.eye(M)\n",
    "    for i in reversed(range(M)):\n",
    "        for j in reversed(range(i+1,M)):\n",
    "            G = np.eye(M)\n",
    "            theta = theta_vals[0]\n",
    "            theta_vals = theta_vals[1:]\n",
    "            G[np.ix_([i,j],[i,j])] = np.array([[np.cos(theta),np.sin(theta)],[-np.sin(theta),np.cos(theta)]])\n",
    "            U = G.T @ U\n",
    "        i_complement = M - i \n",
    "        if (i == M-1):\n",
    "            phi_end = -(M*(M+1)//2)\n",
    "        else:\n",
    "            y = i_complement\n",
    "            phi_end = y*(y+1)//2 - 1\n",
    "        phi_start = phi_end - i_complement\n",
    "        current_phi_vals = np.r_[np.zeros(i),phi_vals[phi_end:phi_start:-1]]\n",
    "        U = np.diag(np.exp(1j * current_phi_vals)) @ U\n",
    "    return U"
   ]
  },
  {
   "cell_type": "code",
   "execution_count": 12,
   "metadata": {
    "id": "44Ljw0IGvPGk"
   },
   "outputs": [],
   "source": [
    "def get_computational_complexity(method,m,Nsc,channel_samples,power_delay_profile,delay_profile):\n",
    "    average_achievable_rate = 0\n",
    "    times= 0\n",
    "    counts = 0\n",
    "    snip_time= 0\n",
    "    methods = [\"SNIP based Filtering\", \"GEODESIC Interpolation\", \"Givens Rotation\"]\n",
    "    for q in range(channel_samples):\n",
    "        n = 2 ### no.of data points\n",
    "        H = np.zeros((5,m,m),dtype = complex)\n",
    "        for i in range(5):\n",
    "          H[i] = (randn(m,m) + 1j * randn(m,m))*(1/np.sqrt(2))\n",
    "        channel_cont_omega = lambda omega : (H[0])*(10**(power_delay_profile[0]/20))*(np.exp(-1j*2*np.pi*omega*delay_profile[0])) +  (H[1])*(10**(power_delay_profile[1]/20))*(np.exp(-1j*2*np.pi*omega*delay_profile[1])) + (H[2])*(10**(power_delay_profile[2]/20))*(np.exp(-1j*2*np.pi*omega*delay_profile[2])) +  (H[3])*(10**(power_delay_profile[3]/20))*(np.exp(-1j*2*np.pi*omega*delay_profile[3])) + (H[4])*(10**(power_delay_profile[4]/20))*(np.exp(-1j*2*np.pi*omega*delay_profile[4]))\n",
    "\n",
    "        #### Subcarrier frequencies\n",
    "        freq = np.array([np.exp(1j*(i+1)/(Nsc+1)) for i in range(Nsc)])\n",
    "\n",
    "        channel = [channel_cont_omega(-1j*np.log(i)) for i in freq]\n",
    "\n",
    "        precoders =[]\n",
    "        for j in range(len(channel)):\n",
    "          U,S,Vh = scipy.linalg.svd(channel[j])\n",
    "          precoders.append(np.conj(Vh.T))\n",
    "\n",
    "        a = 0.49\n",
    "\n",
    "        ## SNIP Interpolation code , given the data-set\n",
    "        prec = np.array([precoders[int((Nsc/n)*t)] for t in range(n)])\n",
    "        inter_freq = np.array([freq[int((Nsc/n)*t)] for t in range(n)])\n",
    "\n",
    "        if method == 0: ### SNIP\n",
    "            snip_begin = timeit.default_timer()\n",
    "            Nz,Dz = SNIP_boundary(m,n,a,power_delay_profile, delay_profile,channel_cont_omega,0,prec,inter_freq,1.0)\n",
    "            snip_end = timeit.default_timer()\n",
    "            freq_int = freq[1:-1]\n",
    "            F = [Gs_eval(m,Nz,Dz,freq[0])]\n",
    "            \n",
    "            ### TIME\n",
    "            start = timeit.default_timer()\n",
    "            F1 = [Gs_eval(m,Nz,Dz,f) for f in freq_int]\n",
    "            end = timeit.default_timer()\n",
    "\n",
    "            ### MEMORY\n",
    "            tracing_start()\n",
    "            F1 = [Gs_eval(m,Nz,Dz,f) for f in freq_int]\n",
    "            stops  = tracing_mem()\n",
    "            F = F + F1 + [Gs_eval(m,Nz,Dz,freq[-1])]\n",
    "\n",
    "            snip_time = snip_time +  snip_end - snip_begin\n",
    "            times = times + end-start \n",
    "            counts = counts + stops\n",
    "\n",
    "        elif method == 1: ### Geodesic\n",
    "            b = 1\n",
    "            omega_1 = -1j*np.log(freq[0])\n",
    "            omega_2 = -1j*np.log(freq[-1])\n",
    "            V2 = precoders[-1]\n",
    "            V1 = precoders[0]\n",
    "            log_freq = np.log(freq)\n",
    "            diff = omega_2 - omega_1\n",
    "            precoders_interp = np.zeros((Nsc-2,m,m),dtype = complex)\n",
    "\n",
    "            ### TIME \n",
    "            start = timeit.default_timer()\n",
    "            B = logm(np.conj(V1.T)@V2)\n",
    "            for b in range(Nsc-2):\n",
    "              t =  ((-1j*log_freq[b+1]-omega_1)/diff)/((omega_2 +1j*log_freq[b+1])/diff)\n",
    "              precoders_interp[b] = V1@expm(t*B)\n",
    "            end = timeit.default_timer()\n",
    "\n",
    "            ### MEMORY\n",
    "            tracing_start()\n",
    "            B = logm(np.conj(V1.T)@V2)\n",
    "            for b in range(Nsc-2):\n",
    "              t =  ((-1j*log_freq[b+1]-omega_1)/diff)/((omega_2 +1j*log_freq[b+1])/diff)\n",
    "              precoders_interp[b] = V1@expm(t*B)\n",
    "            stops = tracing_mem()\n",
    "\n",
    "\n",
    "            F = precoders\n",
    "            F[1:Nsc-1] = precoders_interp\n",
    "            times = times + end-start \n",
    "            counts = counts + stops\n",
    "\n",
    "        elif method == 2: ### Givens Rotation\n",
    "            b = 1\n",
    "            omega_1 = -1j*np.log(freq[0])\n",
    "            omega_2 = -1j*np.log(freq[-1])\n",
    "            V2 = precoders[-1]\n",
    "            V1 = precoders[0]\n",
    "            log_freq = np.log(freq)\n",
    "            diff = omega_2 - omega_1\n",
    "            precoders_interp = np.zeros((Nsc-2,m,m),dtype = complex)\n",
    "\n",
    "            phi_vals_0, theta_vals_0 = gparam_test(V1)\n",
    "            phi_theta_vals_0 = np.zeros(len(phi_vals_0) + len(theta_vals_0))\n",
    "            phi_theta_vals_0[:len(phi_vals_0)] = phi_vals_0\n",
    "            phi_theta_vals_0[len(phi_vals_0):] = theta_vals_0\n",
    "            phi_vals_1, theta_vals_1 = gparam_test(V2)\n",
    "            phi_theta_vals_1 = np.zeros(len(phi_vals_1) + len(theta_vals_1))\n",
    "            phi_theta_vals_1[:len(phi_vals_1)] = phi_vals_1\n",
    "            phi_theta_vals_1[len(phi_vals_1):] = theta_vals_1\n",
    "\n",
    "            ### TIME \n",
    "            B = logm(np.conj(V1.T)@V2)\n",
    "\n",
    "            phi_theta_vals = ((omega_2+1j*log_freq[b+1])/(diff)*phi_theta_vals_0) + ((-1j*log_freq[b+1]-omega_1)/(diff)*phi_theta_vals_1)\n",
    "            phi_vals = phi_theta_vals[0:(m*(m+1)//2)]\n",
    "            phi_vals = phi_vals[::-1]\n",
    "            theta_vals = phi_theta_vals[(m*(m+1)//2):]\n",
    "            theta_vals = theta_vals[::-1]\n",
    "\n",
    "            start = timeit.default_timer()\n",
    "            for b in range(Nsc-2):\n",
    "              # precoders_interp[b] = givens_reconstruct(((omega_2+1j*log_freq[b+1])/(diff)*phi_theta_vals_0) + ((-1j*log_freq[b+1]-omega_1)/(diff)*phi_theta_vals_1))\n",
    "              U = np.eye(m)\n",
    "              for i in reversed(range(m)):\n",
    "                  for j in reversed(range(i+1,m)):\n",
    "                      G = np.eye(m)\n",
    "                      theta = theta_vals[0]\n",
    "                      # theta_vals = theta_vals[1:]\n",
    "                      G[np.ix_([i,j],[i,j])] = np.array([[np.cos(theta),np.sin(theta)],[-np.sin(theta),np.cos(theta)]])\n",
    "                      U = G.T @ U\n",
    "                  i_complement = m - i \n",
    "                  if (i == m-1):\n",
    "                      phi_end = -(m*(m+1)//2)\n",
    "                  else:\n",
    "                      y = i_complement\n",
    "                      phi_end = y*(y+1)//2 - 1\n",
    "                  phi_start = phi_end - i_complement\n",
    "                  current_phi_vals = np.r_[np.zeros(i),phi_vals[phi_end:phi_start:-1]]\n",
    "                  U = np.diag(np.exp(1j * current_phi_vals)) @ U\n",
    "            end = timeit.default_timer()\n",
    "            precoders_interp[b] = U\n",
    "            \n",
    "\n",
    "\n",
    "            ### MEMORY\n",
    "            tracing_start()\n",
    "            B = logm(np.conj(V1.T)@V2)\n",
    "            for b in range(Nsc-2):\n",
    "              precoders_interp[b] = givens_reconstruct(((omega_2+1j*log_freq[b+1])/(diff)*phi_theta_vals_0) + ((-1j*log_freq[b+1]-omega_1)/(diff)*phi_theta_vals_1))\n",
    "            stops = tracing_mem()\n",
    "            F = precoders\n",
    "            F[1:Nsc-1] = precoders_interp\n",
    "            times = times + end-start \n",
    "            counts = counts + stops\n",
    "    print(str(m)+\"X\"+str(m)+\" MIMO -- \"+\"Method - \"+str(methods[method])+\" --> \",\"Time to construct Precoder is --> \"+str(times/(channel_samples)))\n",
    "    print(str(m)+\"X\"+str(m)+\" MIMO -- \"+\"Method - \"+str(methods[method])+\" --> \",\"Memory consumed (Peak size) in MB --> \"+str(counts/(channel_samples)))\n",
    "    # if method == 0:\n",
    "    #   print(str(m)+\"X\"+str(m)+\" MIMO -- \"+\"Method - \"+str(methods[method])+\" --> \",\"Time to construct MATRIX ALL-PASS FILTER IS --> \"+str(snip_time/(channel_samples)))\n",
    "    return times/(channel_samples) , snip_time/(channel_samples)"
   ]
  },
  {
   "cell_type": "markdown",
   "metadata": {
    "id": "LpbggSkevPGk"
   },
   "source": [
    "# **COMPUTATION COMPLEXITY EVALUATION**"
   ]
  },
  {
   "cell_type": "code",
   "execution_count": 14,
   "metadata": {
    "colab": {
     "base_uri": "https://localhost:8080/"
    },
    "id": "WzJBWkfqvPGl",
    "outputId": "ea9339c6-8792-4273-c9a2-5a6cda60bf44",
    "scrolled": false
   },
   "outputs": [
    {
     "name": "stdout",
     "output_type": "stream",
     "text": [
      "2X2 MIMO -- Method - GEODESIC Interpolation -->  Time to construct Precoder is --> 0.00610491729999967\n",
      "2X2 MIMO -- Method - GEODESIC Interpolation -->  Memory consumed (Peak size) in MB --> 0.006646463394165039\n"
     ]
    },
    {
     "name": "stderr",
     "output_type": "stream",
     "text": [
      "C:\\Users\\DELL\\AppData\\Local\\Temp\\ipykernel_11824\\1702866097.py:121: ComplexWarning: Casting complex values to real discards the imaginary part\n",
      "  G[np.ix_([i,j],[i,j])] = np.array([[np.cos(theta),np.sin(theta)],[-np.sin(theta),np.cos(theta)]])\n",
      "C:\\Users\\DELL\\AppData\\Local\\Temp\\ipykernel_11824\\2393489533.py:13: ComplexWarning: Casting complex values to real discards the imaginary part\n",
      "  G[np.ix_([i,j],[i,j])] = np.array([[np.cos(theta),np.sin(theta)],[-np.sin(theta),np.cos(theta)]])\n"
     ]
    },
    {
     "name": "stdout",
     "output_type": "stream",
     "text": [
      "2X2 MIMO -- Method - Givens Rotation -->  Time to construct Precoder is --> 0.0015773020000017367\n",
      "2X2 MIMO -- Method - Givens Rotation -->  Memory consumed (Peak size) in MB --> 0.006899402618408203\n",
      "2X2 MIMO -- Method - SNIP based Filtering -->  Time to construct Precoder is --> 0.0004981135999997833\n",
      "2X2 MIMO -- Method - SNIP based Filtering -->  Memory consumed (Peak size) in MB --> 0.00325811767578125\n",
      "-------------------------------------------------------------------------------------\n",
      "3X3 MIMO -- Method - GEODESIC Interpolation -->  Time to construct Precoder is --> 0.008351216500001328\n",
      "3X3 MIMO -- Method - GEODESIC Interpolation -->  Memory consumed (Peak size) in MB --> 0.007273948669433593\n",
      "3X3 MIMO -- Method - Givens Rotation -->  Time to construct Precoder is --> 0.002895880799998622\n",
      "3X3 MIMO -- Method - Givens Rotation -->  Memory consumed (Peak size) in MB --> 0.0076479921340942385\n",
      "3X3 MIMO -- Method - SNIP based Filtering -->  Time to construct Precoder is --> 0.000478316299999392\n",
      "3X3 MIMO -- Method - SNIP based Filtering -->  Memory consumed (Peak size) in MB --> 0.0043875732421875\n",
      "-------------------------------------------------------------------------------------\n",
      "4X4 MIMO -- Method - GEODESIC Interpolation -->  Time to construct Precoder is --> 0.008999147699996797\n",
      "4X4 MIMO -- Method - GEODESIC Interpolation -->  Memory consumed (Peak size) in MB --> 0.008028340339660645\n",
      "4X4 MIMO -- Method - Givens Rotation -->  Time to construct Precoder is --> 0.004865398000001733\n",
      "4X4 MIMO -- Method - Givens Rotation -->  Memory consumed (Peak size) in MB --> 0.008526496887207032\n",
      "4X4 MIMO -- Method - SNIP based Filtering -->  Time to construct Precoder is --> 0.0004942967999996881\n",
      "4X4 MIMO -- Method - SNIP based Filtering -->  Memory consumed (Peak size) in MB --> 0.005620147705078125\n",
      "-------------------------------------------------------------------------------------\n",
      "5X5 MIMO -- Method - GEODESIC Interpolation -->  Time to construct Precoder is --> 0.009151424999998199\n",
      "5X5 MIMO -- Method - GEODESIC Interpolation -->  Memory consumed (Peak size) in MB --> 0.009233261108398437\n",
      "5X5 MIMO -- Method - Givens Rotation -->  Time to construct Precoder is --> 0.007093125900000473\n",
      "5X5 MIMO -- Method - Givens Rotation -->  Memory consumed (Peak size) in MB --> 0.009640144348144532\n",
      "5X5 MIMO -- Method - SNIP based Filtering -->  Time to construct Precoder is --> 0.0005428934000008212\n",
      "5X5 MIMO -- Method - SNIP based Filtering -->  Memory consumed (Peak size) in MB --> 0.006887176513671875\n",
      "-------------------------------------------------------------------------------------\n",
      "6X6 MIMO -- Method - GEODESIC Interpolation -->  Time to construct Precoder is --> 0.011469352100000151\n",
      "6X6 MIMO -- Method - GEODESIC Interpolation -->  Memory consumed (Peak size) in MB --> 0.012078109741210938\n",
      "6X6 MIMO -- Method - Givens Rotation -->  Time to construct Precoder is --> 0.009695213900000454\n",
      "6X6 MIMO -- Method - Givens Rotation -->  Memory consumed (Peak size) in MB --> 0.010970799446105958\n",
      "6X6 MIMO -- Method - SNIP based Filtering -->  Time to construct Precoder is --> 0.0010531613000000562\n",
      "6X6 MIMO -- Method - SNIP based Filtering -->  Memory consumed (Peak size) in MB --> 0.008200103759765626\n",
      "-------------------------------------------------------------------------------------\n",
      "7X7 MIMO -- Method - GEODESIC Interpolation -->  Time to construct Precoder is --> 0.011428554999999506\n",
      "7X7 MIMO -- Method - GEODESIC Interpolation -->  Memory consumed (Peak size) in MB --> 0.01544049072265625\n",
      "7X7 MIMO -- Method - Givens Rotation -->  Time to construct Precoder is --> 0.012395906300001343\n",
      "7X7 MIMO -- Method - Givens Rotation -->  Memory consumed (Peak size) in MB --> 0.01255626678466797\n",
      "7X7 MIMO -- Method - SNIP based Filtering -->  Time to construct Precoder is --> 0.0010564645000008567\n",
      "7X7 MIMO -- Method - SNIP based Filtering -->  Memory consumed (Peak size) in MB --> 0.009589447021484374\n",
      "-------------------------------------------------------------------------------------\n",
      "8X8 MIMO -- Method - GEODESIC Interpolation -->  Time to construct Precoder is --> 0.012067661000000725\n",
      "8X8 MIMO -- Method - GEODESIC Interpolation -->  Memory consumed (Peak size) in MB --> 0.020304059028625487\n",
      "8X8 MIMO -- Method - Givens Rotation -->  Time to construct Precoder is --> 0.015907711500001368\n",
      "8X8 MIMO -- Method - Givens Rotation -->  Memory consumed (Peak size) in MB --> 0.020113136291503905\n",
      "8X8 MIMO -- Method - SNIP based Filtering -->  Time to construct Precoder is --> 0.0017208670000052279\n",
      "8X8 MIMO -- Method - SNIP based Filtering -->  Memory consumed (Peak size) in MB --> 0.016895416259765626\n",
      "-------------------------------------------------------------------------------------\n",
      "9X9 MIMO -- Method - GEODESIC Interpolation -->  Time to construct Precoder is --> 0.012715570300000536\n",
      "9X9 MIMO -- Method - GEODESIC Interpolation -->  Memory consumed (Peak size) in MB --> 0.024972862243652343\n",
      "9X9 MIMO -- Method - Givens Rotation -->  Time to construct Precoder is --> 0.01964529240000229\n",
      "9X9 MIMO -- Method - Givens Rotation -->  Memory consumed (Peak size) in MB --> 0.024782196044921875\n",
      "9X9 MIMO -- Method - SNIP based Filtering -->  Time to construct Precoder is --> 0.0017549256999961926\n",
      "9X9 MIMO -- Method - SNIP based Filtering -->  Memory consumed (Peak size) in MB --> 0.019947174072265626\n",
      "-------------------------------------------------------------------------------------\n"
     ]
    }
   ],
   "source": [
    "for m in range(8):\n",
    "  m = m+2\n",
    "  Nt = m\n",
    "  Nr = m\n",
    "  t2,s = get_computational_complexity(1,m,Nsc,channel_samples,power_delay_profile,delay_profile)\n",
    "  t3,s = get_computational_complexity(2,m,Nsc,channel_samples,power_delay_profile,delay_profile)\n",
    "  t1,s = get_computational_complexity(0,m,Nsc,channel_samples,power_delay_profile,delay_profile)\n",
    "\n",
    "  print('-------------------------------------------------------------------------------------')\n"
   ]
  }
 ],
 "metadata": {
  "accelerator": "GPU",
  "colab": {
   "collapsed_sections": [],
   "name": "Computation_SNIP_Geodesic_Givens.ipynb",
   "provenance": []
  },
  "gpuClass": "standard",
  "kernelspec": {
   "display_name": "Python 3 (ipykernel)",
   "language": "python",
   "name": "python3"
  },
  "language_info": {
   "codemirror_mode": {
    "name": "ipython",
    "version": 3
   },
   "file_extension": ".py",
   "mimetype": "text/x-python",
   "name": "python",
   "nbconvert_exporter": "python",
   "pygments_lexer": "ipython3",
   "version": "3.8.10"
  }
 },
 "nbformat": 4,
 "nbformat_minor": 1
}
